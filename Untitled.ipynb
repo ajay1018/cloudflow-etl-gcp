{
 "cells": [
  {
   "cell_type": "code",
   "execution_count": null,
   "id": "d09730f5-9262-4fee-91e0-501bbeb77861",
   "metadata": {},
   "outputs": [],
   "source": []
  }
 ],
 "metadata": {
  "kernelspec": {
   "display_name": "",
   "name": ""
  },
  "language_info": {
   "name": ""
  }
 },
 "nbformat": 4,
 "nbformat_minor": 5
}
